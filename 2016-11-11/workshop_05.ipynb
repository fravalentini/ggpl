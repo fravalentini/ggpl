{
 "cells": [
  {
   "cell_type": "markdown",
   "metadata": {
    "collapsed": false
   },
   "source": [
    "# My class \n",
    "esempio della classe\n",
    "<img src=\"https://s4.postimg.org/iq13fzvul/Immagine.png\">\n",
    "<img src=\"https://s4.postimg.org/9wa6yw8vx/Immagine1.jpg\">\n",
    "\n",
    "banco di riferimento\n",
    "<img src=\"http://i01.i.aliimg.com/img/pb/220/312/551/551312220_075.jpg\">\n",
    "\n",
    "sedia di riferimento\n",
    "<img src=\"http://www.arredamentopari.com/data/image/dimensioni-sedia-eva-in-plastica-impilabile.jpg\">"
   ]
  },
  {
   "cell_type": "code",
   "execution_count": 1,
   "metadata": {
    "collapsed": false
   },
   "outputs": [
    {
     "name": "stdout",
     "output_type": "stream",
     "text": [
      "Evaluating fenvs.py..\n",
      "...fenvs.py imported in 0.0081740023822 seconds\n"
     ]
    }
   ],
   "source": [
    "from pyplasm import *"
   ]
  },
  {
   "cell_type": "code",
   "execution_count": 2,
   "metadata": {
    "collapsed": false
   },
   "outputs": [],
   "source": [
    "\"http://www.arredamentopari.com/data/image/dimensioni-sedia-eva-in-plastica-impilabile.jpg\"\n",
    "\"sedia\"\n",
    "\n",
    "def chair():\n",
    "    rod = CUBOID([0.04,0.04,0.46])\n",
    "    base = STRUCT([rod,T(1)(0.45-0.05),rod,rod,T(2)(0.55-0.05),rod,rod,T(1)(-0.45+0.05),rod])\n",
    "    base = COLOR([0.912,0.858,0.772])(base)\n",
    "    sit = CUBOID([0.43,0.53,0.02])\n",
    "    sit1 = COLOR([0.92, 0.648, 0.312])(sit)\n",
    "    structure = STRUCT ([base,T(3)(0.46),sit1])\n",
    "    seatback = CUBOID([0.01,0.53,0.43])\n",
    "    seatback = COLOR([0.92, 0.648, 0.312])(seatback)\n",
    "    chair = STRUCT([structure,T(3)(0.46),seatback])\n",
    "    chair = STRUCT([R([1,2])(-3.14/2),chair])\n",
    "    return chair"
   ]
  },
  {
   "cell_type": "code",
   "execution_count": 3,
   "metadata": {
    "collapsed": false
   },
   "outputs": [],
   "source": [
    "\"http://i01.i.aliimg.com/img/pb/220/312/551/551312220_075.jpg\"\n",
    "\"banchi degli studenti\"\n",
    "def workBench():\n",
    "    littleFoot= CUBOID([0.05,0.05,0.01])\n",
    "    littleFoots = STRUCT([littleFoot,T(1)(0.45-0.05),littleFoot])\n",
    "    struc = CUBOID([0.45,0.05,0.02])\n",
    "    structure = STRUCT([littleFoots,T(3)(0.01),struc])\n",
    "    lowStructure = STRUCT([structure,T(2)(0.6),structure])\n",
    "    rod = CUBOID([0.05,0.05,0.85])\n",
    "    rod = STRUCT([T([1,3])([0.45/2,0.02]),rod])\n",
    "    rods = STRUCT([rod,T(2)(0.6),rod])\n",
    "    structure = STRUCT([lowStructure,T(0)(0),rods])\n",
    "    structure = COLOR([0.912,0.858,0.772])(structure)\n",
    "    underStructure = CUBOID([0.45,0.55,0.02])\n",
    "    underStructure = COLOR([0.643,0.349,0.176])(underStructure)\n",
    "    r = CUBOID([0.01,0.55,0.03])\n",
    "    r = COLOR([0.643,0.349,0.176])(r)\n",
    "    structure = STRUCT([structure,T([1,2,3])([0.05,0.05,0.65]),underStructure])\n",
    "    upper = CUBOID([0.60,0.68,0.03])\n",
    "    upper = COLOR([0.643,0.349,0.176])(upper)\n",
    "    structure = STRUCT([structure,T([1,2,3])([-0.03,-0.02,0.85]),upper])\n",
    "    structure = STRUCT([structure,T([1,2,3])([0.49,0.05,0.65]),r])\n",
    "    structure = STRUCT([R([1,2])(-3.14/2),structure])\n",
    "    return structure\n"
   ]
  },
  {
   "cell_type": "code",
   "execution_count": 4,
   "metadata": {
    "collapsed": false
   },
   "outputs": [],
   "source": [
    "\"pavimento da finire e colorare\"\n",
    "def classRoom(dx,dy,dz):\n",
    "    floor = CUBOID([7,10,0.2])\n",
    "    floor = STRUCT([T(3)(-0.2),floor])\n",
    "    wall1 = CUBOID([7,0.2,3])\n",
    "    wall2 = CUBOID([0.2,10,3])\n",
    "    classRoom = STRUCT([floor,T(3)(-0.1),wall1])\n",
    "    classRoom = STRUCT([classRoom,T(3)(-0.1),wall2])\n",
    "    return classRoom\n"
   ]
  },
  {
   "cell_type": "code",
   "execution_count": 5,
   "metadata": {
    "collapsed": false
   },
   "outputs": [],
   "source": [
    "\"lavagna\"\n",
    "def blackBoard():\n",
    "    slate = CUBOID([2,0.01,1.5])\n",
    "    slate = COLOR(BLACK)(slate)\n",
    "    side12 = CUBOID([0.02,0.02,1.52])\n",
    "    side34 = CUBOID([2.0,0.04,0.02])\n",
    "    side12 = COLOR([0.92, 0.648, 0.312])(side12)\n",
    "    side34 = COLOR([0.92, 0.648, 0.312])(side34)\n",
    "    blackBoard = STRUCT([slate,T(1)(-0.02),side12,slate,T(1)(0.02+2),side12])\n",
    "    blackBoard = STRUCT([blackBoard,T(2)(-0.02),side34,blackBoard,T(3)(1.5),side34])\n",
    "    return blackBoard\n"
   ]
  },
  {
   "cell_type": "code",
   "execution_count": 6,
   "metadata": {
    "collapsed": false
   },
   "outputs": [],
   "source": [
    "\"http://www.prismarredo.it/ecomm2/listino/prismarredo_1724p.jpg\"\n",
    "\"scrivania \"\n",
    "def desk():\n",
    "    upperStructure = CUBOID([1,2,0.02])\n",
    "    upperStructure = COLOR([0.301, 0.611, 0.207])(upperStructure)\n",
    "    rod = CUBOID([0.08,0.08,0.8])\n",
    "    base = STRUCT([rod,T(1)(1-0.08),rod,rod,T(2)(2-0.08),rod,rod,T(1)(-1+0.08),rod])\n",
    "    base = COLOR(BLACK)(base)\n",
    "    desk = STRUCT([base,T(3)(0.8),upperStructure])\n",
    "    s = CUBOID([0.02,1.9,0.46])\n",
    "    s = COLOR([0.01,0.53,0.43])(s)\n",
    "    desk = STRUCT([desk,T([1,2,3])([1,0.03,0.3]),s])\n",
    "    desk = STRUCT([R([1,2])(3.14/2),desk])\n",
    "    return desk"
   ]
  },
  {
   "cell_type": "code",
   "execution_count": 7,
   "metadata": {
    "collapsed": false
   },
   "outputs": [
    {
     "data": {
      "text/plain": [
       "<pyplasm.xgepy.Hpc; proxy of <Swig Object of type 'std::shared_ptr< Hpc > *' at 0x000000000B303CC0> >"
      ]
     },
     "execution_count": 7,
     "metadata": {},
     "output_type": "execute_result"
    }
   ],
   "source": [
    "def ggpl_my_class(dx,dy,dz):\n",
    "    c = chair()\n",
    "    wb = workBench()\n",
    "    struct = STRUCT([c,T(2)(-0.6),wb])\n",
    "    board = blackBoard()\n",
    "    room = classRoom(dx,dy,dz)\n",
    "    desk1 = desk()\n",
    "    desk1 = STRUCT([T([1,2])([2,-2]),desk1])\n",
    "    structure = STRUCT([room,T([1,2,3])([0.5,0.2,1]),board])\n",
    "    structure = STRUCT([structure,T([1,2])([2,3]),desk1])\n",
    "    \"file di banchi\"\n",
    "    for i in range(1,5):\n",
    "        struct = STRUCT([struct,T(1)(1),struct])\n",
    "    for i in range(1,3):\n",
    "        struct = STRUCT([struct,T(2)(2),struct])\n",
    "    struct  = STRUCT([structure,T([1,2])([1,5]),struct])\n",
    "    profChair = chair()\n",
    "    profChair = STRUCT([R([1,2])(3.14),profChair])\n",
    "    struct = STRUCT ([struct,T([1,2])([3.5,1]),profChair])\n",
    "    return struct\n",
    "VIEW(ggpl_my_class(0,0,0))\n"
   ]
  },
  {
   "cell_type": "code",
   "execution_count": null,
   "metadata": {
    "collapsed": false
   },
   "outputs": [],
   "source": []
  },
  {
   "cell_type": "code",
   "execution_count": null,
   "metadata": {
    "collapsed": true
   },
   "outputs": [],
   "source": []
  },
  {
   "cell_type": "code",
   "execution_count": null,
   "metadata": {
    "collapsed": true
   },
   "outputs": [],
   "source": []
  },
  {
   "cell_type": "code",
   "execution_count": null,
   "metadata": {
    "collapsed": true
   },
   "outputs": [],
   "source": []
  }
 ],
 "metadata": {
  "kernelspec": {
   "display_name": "Python 2",
   "language": "python",
   "name": "python2"
  },
  "language_info": {
   "codemirror_mode": {
    "name": "ipython",
    "version": 2
   },
   "file_extension": ".py",
   "mimetype": "text/x-python",
   "name": "python",
   "nbconvert_exporter": "python",
   "pygments_lexer": "ipython2",
   "version": "2.7.12"
  }
 },
 "nbformat": 4,
 "nbformat_minor": 1
}
