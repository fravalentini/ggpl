{
 "cells": [
  {
   "cell_type": "markdown",
   "metadata": {},
   "source": [
    "# Workshop 9"
   ]
  },
  {
   "cell_type": "markdown",
   "metadata": {},
   "source": [
    "Texture usata per i piani inclinati\n",
    "\n",
    "<img src=\"http://www.tegolacanadese.com/assets/blog/2b/f7/a5d9/c5b67c6e/2bf7a5d9c5b67c6e9ef4cf3a7baab60b.jpg\">\n",
    "\n",
    "Texture usata per il terrazzo\n",
    "<img src=\"http://previews.123rf.com/images/tomnamon/tomnamon1207/tomnamon120700200/14626371-white-and-black-terrazzo-texture-Stock-Photo-terrazzo.jpg\">\n",
    "\n",
    "Esempio 1 \n",
    "\n",
    "<img src=\"https://s27.postimg.org/4pu5oh2fn/tetto1.png\">\n",
    "\n",
    "Esempio 2\n",
    "\n",
    "<img src=\"https://s30.postimg.org/qkpsm5lw1/tetto2.png\">\n"
   ]
  },
  {
   "cell_type": "code",
   "execution_count": 165,
   "metadata": {
    "collapsed": false
   },
   "outputs": [],
   "source": [
    "from pyplasm import *\n",
    "from math import *\n",
    "from __future__ import division"
   ]
  },
  {
   "cell_type": "markdown",
   "metadata": {},
   "source": [
    "Il metodo di supporto findPoint,date 3 liste di punti, ritorna l'indice in cui tutte e tre le liste hanno valore positivo"
   ]
  },
  {
   "cell_type": "code",
   "execution_count": 166,
   "metadata": {
    "collapsed": false
   },
   "outputs": [],
   "source": [
    "def findPoint(l1,l2,l3):\n",
    "    l = len(l1)\n",
    "    p=0\n",
    "    for i in range (0,l):\n",
    "        if((l1[i]>0) & (l2[i]>0) & (l3[i]>0)):\n",
    "            p=i+1\n",
    "    return p    "
   ]
  },
  {
   "cell_type": "markdown",
   "metadata": {},
   "source": [
    "Il metodo planeCalcolation prende in input 3 punti, condisera i due piani passanti per A1 A2 e A2 A3, inclinati di un angolo alfa assegnato in radianti, calcola la retta intersezione di questi due piani e quindi le coordinate del punto che appartiene a tale retta e dista h dal piano individuato dai 3 punti A1 A2 A3. Tale punto è il corrispondente di A2 (punto centrale della terna) e questo avviene per tutte le terne di punti."
   ]
  },
  {
   "cell_type": "code",
   "execution_count": 167,
   "metadata": {
    "collapsed": false
   },
   "outputs": [],
   "source": [
    "def planeCalcolation(A1,A2,A3):\n",
    "    h = 0.7\n",
    "    angle = math.pi/4\n",
    "    x1 = A1[0]\n",
    "    y1 = A1[1]\n",
    "    \n",
    "    x2 = A2[0]\n",
    "    y2 = A2[1]\n",
    "    \n",
    "    x3 = A3[0]\n",
    "    y3 = A3[1]\n",
    "    #\"caso particolare in cui x1 è uguale a x2\"\n",
    "    if(x1==x2):\n",
    "        #\"calcolo coefficienti primo piano(piano passante per il 1 e 2 punto inclinato dell'angolo alfa)\"\n",
    "        a = 1\n",
    "        b = 0\n",
    "        c = math.cos(angle)/math.sin(angle)\n",
    "        d = -x1\n",
    "        \n",
    "        #\"calcolo coefficienti secondo piano (piano passante per il 2 e 3 punto inclinato dell'angolo alfa)\"\n",
    "        a1 = -((y2-y3)/(x2-x3))\n",
    "        b1 = 1\n",
    "        cotg = math.cos(angle)/math.sin(angle)\n",
    "        c1 = cotg * (math.sqrt((((y2-y3)*(y2-y3))/((x2-x3)*(x2-x3)))+1))\n",
    "        d1 = ((y2-y3)/(x2-x3))*x2 -y2\n",
    "        \n",
    "        x = x1-(math.cos(angle)/math.sin(angle))*h\n",
    "        y = (-a1*x-c1*h-d1)/b1\n",
    "        z = h\n",
    "        point = (x,y,z)\n",
    "        return point\n",
    "    \n",
    "    #\"caso particolare in cui x2 è uguale a x3\"\n",
    "    if(x2==x3):\n",
    "        #\"calcolo coefficienti primo piano(piano passante per il 1 e 2 punto inclinato dell'angolo alfa)\"\n",
    "        a = -(y1-y2)/(x1-x2)\n",
    "        b = 1\n",
    "        cotg = math.cos(angle)/math.sin(angle)\n",
    "        c = cotg * (math.sqrt((((y1-y2)*(y1-y2))/((x1-x2)*(x1-x2)))+1))\n",
    "        d = ((y1-y2)/(x1-x2))*x1 -y1\n",
    "        \n",
    "        #\"calcolo coefficienti secondo piano (piano passante per il 2 e 3 punto inclinato dell'angolo alfa)\"\n",
    "        a1 = 1\n",
    "        b1 = 0\n",
    "        cotg = math.cos(angle)/math.sin(angle)\n",
    "        c1 = cotg \n",
    "        d1 = -x2\n",
    "        \n",
    "        x = x2-cotg*h\n",
    "        y = (-a*x-c*h-d)/b\n",
    "        z = h\n",
    "        point = (x,y,z)\n",
    "        return point\n",
    "    #\"caso normale\"\n",
    "    \n",
    "    #\"calcolo coefficienti primo piano(piano passante per il 1 e 2 punto inclinato dell'angolo alfa)\"\n",
    "    a = -(y1-y2)/(x1-x2)\n",
    "    b = 1\n",
    "    cotg = (math.cos(angle)/math.sin(angle))\n",
    "    c1 = cotg * (math.sqrt((((y1-y2)*(y1-y2))/((x1-x2)*(x1-x2)))+1))\n",
    "    c2 = -(cotg * (math.sqrt((((y1-y2)*(y1-y2))/((x1-x2)*(x1-x2)))+1)))\n",
    "    d = ((y1-y2)/(x1-x2))*x1 -y1\n",
    "    \n",
    "    #\"calcolo coefficienti secondo piano (piano passante per il 2 e 3 punto inclinato dell'angolo alfa)\"\n",
    "    a1 = -(y2-y3)/(x2-x3)\n",
    "    b1 = 1\n",
    "    cotg = (math.cos(angle)/math.sin(angle))\n",
    "    c11 = cotg * (math.sqrt((((y2-y3)*(y2-y3))/((x2-x3)*(x2-x3)))+1))\n",
    "    c12 = -(cotg * (math.sqrt((((y2-y3)*(y2-y3))/((x2-x3)*(x2-x3)))+1)))\n",
    "    d1 = ((y2-y3)/(x2-x3))*x2 -y2\n",
    "    \n",
    "    #\"calcolo le coordinate dei punti\"\n",
    "    #\"punto con c1 e c11 positivi\"\n",
    "    y11 = (a/(a*b1-a1*b))*(a1/a*c1*h+a1/a*d-c11*h-d1)\n",
    "    x11 = (-b*y11-c1*h-d)/a\n",
    "    z = h\n",
    "    #\"punto con c1 positivo e c12 negativo\"\n",
    "    y22 = (a/(a*b1-a1*b))*(a1/a*c1*h+a1/a*d-c12*h-d1)\n",
    "    x22 = (-b*y22-c1*h-d)/a\n",
    "    #\"punto con c2 negativo e c11 positivo\"\n",
    "    y33 = (a/(a*b1-a1*b))*(a1/a*c2*h+a1/a*d-c11*h-d1)\n",
    "    x33 = (-b*y33-c2*h-d)/a\n",
    "    #\"punto con c2 negativo e c12 negativo\"\n",
    "    y44 = (a/(a*b1-a1*b))*(a1/a*c2*h+a1/a*d-c12*h-d1)\n",
    "    x44 = (-b*y44-c2*h-d)/a\n",
    "    \"\"\" questa parte serve a scegliere le coordinate del punto in modo tale che sia interno al triangolo A1 A2 A3.\"\"\"\n",
    "    #\"le coordinate del punto corrispondente al punto A2 situato sul piano x y deve essere interno al triangolo A1 A2 A3.\"\n",
    "    #\"Si è quindi calcolata l'equazione di ciascuna retta passante per ogni coppia di punti.\"\n",
    "    #\"Si è calcolato il valore \"s\" del terzo punto su questa retta e i valori s1,s2,s3,s4 corrispondenti ai 4 punti trovati \"\n",
    "    #\"Si è poi calcolato il valore di s per ciascuno dei 4 valori.\"\n",
    "    m = (y2-y1)/(x2-x1)\n",
    "    s = y3-y1-m*x3+m*x1\n",
    "    s1  = y11-y1-m*x11+m*x1\n",
    "    s2  = y22-y1-m*x22+m*x1\n",
    "    s3  = y33-y1-m*x33+m*x1\n",
    "    s4  = y44-y1-m*x44+m*x1\n",
    "    lista1 = [s*s1,s*s2,s*s3,s*s4]\n",
    "    \n",
    "    m = (y3-y2)/(x3-x2)\n",
    "    s = y1-y2-m*x1+m*x2\n",
    "    s1  = y11-y2-m*x11+m*x2\n",
    "    s2  = y22-y2-m*x22+m*x2\n",
    "    s3  = y33-y2-m*x33+m*x2\n",
    "    s4  = y44-y2-m*x44+m*x2\n",
    "    lista2 = [s*s1,s*s2,s*s3,s*s4]\n",
    "    \n",
    "    m = (y3-y1)/(x3-x1)\n",
    "    s = y2-y1-m*x2+m*x1\n",
    "    s1  = y11-y1-m*x11+m*x1\n",
    "    s2  = y22-y1-m*x22+m*x1\n",
    "    s3  = y33-y1-m*x33+m*x1\n",
    "    s4  = y44-y1-m*x44+m*x1\n",
    "    lista3 = [s*s1,s*s2,s*s3,s*s4]\n",
    "    index = findPoint(lista1,lista2,lista3)\n",
    "    #\"\"\n",
    "    point = 0\n",
    "    if (index == 1):\n",
    "        point =(x11,y11,z)\n",
    "    elif(index == 2):\n",
    "        point =(x22,y22,z)\n",
    "    elif(index == 3):\n",
    "        point =(x33,y33,z)\n",
    "    elif(index == 4):\n",
    "        point =(x44,y44,z)\n",
    "    return point\n"
   ]
  },
  {
   "cell_type": "markdown",
   "metadata": {},
   "source": [
    "Il metodo sideBand restituisce un la Struct dei piani inclinati"
   ]
  },
  {
   "cell_type": "code",
   "execution_count": 168,
   "metadata": {
    "collapsed": true
   },
   "outputs": [],
   "source": [
    "def sideBand(points1,points2):\n",
    "    struct = CUBOID([0,0,0])\n",
    "    l = len(points1)\n",
    "    for i in range(0,l-1):\n",
    "        points =[points1[i],points2[i],points1[i+1],points2[i+1]]\n",
    "        temp =TEXTURE(\"canadesi.jpg\") (MKPOL([points,[[1,2,3,4]],1]))\n",
    "        struct = STRUCT([temp,T(0)(0),struct])\n",
    "    temp = TEXTURE(\"canadesi.jpg\")(MKPOL([[points1[l-1],points2[l-1],points1[0],points2[0]],[[1,2,3,4]],1]))\n",
    "    struct = STRUCT([struct,T(0)(0),temp])\n",
    "    return struct\n",
    "    "
   ]
  },
  {
   "cell_type": "markdown",
   "metadata": {},
   "source": [
    "Metodo che richiama il metodo planeCalcolation per ogni terna di punti "
   ]
  },
  {
   "cell_type": "code",
   "execution_count": 169,
   "metadata": {
    "collapsed": false,
    "scrolled": true
   },
   "outputs": [],
   "source": [
    "def plane(points):\n",
    "    \n",
    "    temp=[]\n",
    "    lenPoints = len(points)\n",
    "    \n",
    "    for i in range(0,lenPoints-2):\n",
    "        point = planeCalcolation(points[i],points[i+1],points[i+2])\n",
    "        temp.append(point)\n",
    "    lastPoint = planeCalcolation(points[lenPoints-2],points[lenPoints-1],points[0])\n",
    "    firstPoint = planeCalcolation(points[lenPoints-1],points[0],points[1])\n",
    "    temp.append(lastPoint)\n",
    "    temp.insert(0,firstPoint)\n",
    "    return temp"
   ]
  },
  {
   "cell_type": "markdown",
   "metadata": {
    "collapsed": true
   },
   "source": [
    "Metodo principale che prende in input una lista di punti e di celle"
   ]
  },
  {
   "cell_type": "code",
   "execution_count": 170,
   "metadata": {
    "collapsed": true
   },
   "outputs": [],
   "source": [
    "def ggpl_workshop9_roof(points,cells):\n",
    "    structure = MKPOL([points,[cells],1])\n",
    "    planePoints = plane(points)\n",
    "    platform = MKPOL([planePoints,[cells],1])    \n",
    "    platform = TEXTURE(\"terrazzo1.jpg\")(platform)\n",
    "    side = sideBand(points,planePoints)\n",
    "    finalStructure = STRUCT([side,T(0)(0),platform])\n",
    "    finalStructure = STRUCT([finalStructure,T(0)(0),structure])\n",
    "    return finalStructure\n",
    "\n",
    "points = [(2,2,0),(16,4,0),(14,11,0),(6,15,0)]\n",
    "cells = [1,2,3,4]\n",
    "ex1= ggpl_workshop9_roof(points,cells)\n",
    "#VIEW(ex1)\n",
    "points = [(6,3,0),(12,4,0),(21,13,0),(18,23,0),(9,27,0),(3,8,0)]\n",
    "cells = [1,2,3,4,5,6]\n",
    "ex2 = ggpl_workshop9_roof(points,cells)\n",
    "#VIEW(ex2)"
   ]
  },
  {
   "cell_type": "code",
   "execution_count": null,
   "metadata": {
    "collapsed": true
   },
   "outputs": [],
   "source": []
  }
 ],
 "metadata": {
  "kernelspec": {
   "display_name": "Python 2",
   "language": "python",
   "name": "python2"
  },
  "language_info": {
   "codemirror_mode": {
    "name": "ipython",
    "version": 2
   },
   "file_extension": ".py",
   "mimetype": "text/x-python",
   "name": "python",
   "nbconvert_exporter": "python",
   "pygments_lexer": "ipython2",
   "version": "2.7.12"
  }
 },
 "nbformat": 4,
 "nbformat_minor": 1
}
