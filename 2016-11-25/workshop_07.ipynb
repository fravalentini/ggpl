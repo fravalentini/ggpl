{
 "cells": [
  {
   "cell_type": "code",
   "execution_count": 204,
   "metadata": {
    "collapsed": false
   },
   "outputs": [],
   "source": [
    "from pyplasm import *"
   ]
  },
  {
   "cell_type": "code",
   "execution_count": 205,
   "metadata": {
    "collapsed": false
   },
   "outputs": [],
   "source": [
    "def ggpl(X,Y,Z,occupancy):\n",
    "    def dimension(dx,dy,dz):\n",
    "        def color(cod):\n",
    "            \"preparo il ritorno e imposto a 0 l'indice e la somma dell'insieme X\"\n",
    "            finalStructure = CUBOID([0,0,0])\n",
    "            final = CUBOID([0,0,0])\n",
    "            indexX= 0\n",
    "            sumX = 0\n",
    "            \n",
    "            for p in occupancy:\n",
    "                cubo = CUBOID([0,0,0])\n",
    "                \"imposto a 0 l'indice e la somma dell'insieme  Y\"\n",
    "                indexZ =0\n",
    "                sumZ = 0\n",
    "                \n",
    "                for riga in p:\n",
    "                    \"imposto a 0 l'indice e la somma dell'insieme  Z e creo un array temporaneo di supporto\"\n",
    "                    temp=[]\n",
    "                    indexY=0\n",
    "                    boolean = 1\n",
    "                    \n",
    "                    for val in riga:\n",
    "                        \"verifico che tipo di materiale è\"\n",
    "                        if val == cod:\n",
    "                            temp.append(Y[indexY])\n",
    "                            boolean = 0\n",
    "                        else:\n",
    "                            temp.append(-Y[indexY])\n",
    "                        indexY+=1\n",
    "                        \n",
    "                    if not boolean:\n",
    "                        \"creo prima la quota della struttura \"\n",
    "                        qy = QUOTE(temp)\n",
    "                        qz = QUOTE([Z[indexZ]])\n",
    "                        pxy = PROD([QUOTE([X[indexX]]),qy])\n",
    "                        pyz= PROD([pxy,qz])\n",
    "                        finalStructure=STRUCT([finalStructure,T([3])([sumZ]),pyz])\n",
    "                    \"aumento l'indice\"\n",
    "                    sumZ+= Z[indexZ]\n",
    "                    indexZ+=1\n",
    "                \"creo la struttura finale \"\n",
    "                final = STRUCT([final,T([1])([sumX]),finalStructure])\n",
    "                sumX+=X[indexX]\n",
    "                indexX+=1\n",
    "                \n",
    "            return finalStructure\n",
    "        \"colori dei materiali\"\n",
    "        glass = [210/255,1,1]\n",
    "        wood = [80.0/255,41/255,0/255]\n",
    "        woodS= COLOR(wood)(color(1))\n",
    "        glasS= COLOR(glass)(color(2))\n",
    "        \n",
    "        return STRUCT([glasS,woodS])\n",
    "    return dimension\n"
   ]
  },
  {
   "cell_type": "code",
   "execution_count": 206,
   "metadata": {
    "collapsed": false
   },
   "outputs": [],
   "source": [
    "\"esempio di finestra\"\n",
    "occ1 = [[1,1,1,1,1],[1,0,1,0,1],[1,1,1,1,1],[1,0,1,0,1],[1,1,1,1,1]]\n",
    "occ2 = [[1,1,1,1,1],[1,0,1,0,1],[1,0,1,0,1],[1,0,1,0,1],[1,1,1,1,1]]\n",
    "occ3 = [[1,1,1,1,1],[0,2,1,2,0],[0,2,1,2,0],[0,2,1,2,0],[1,1,1,1,1]]\n",
    "occ4 = [[1,1,1,1,1],[1,0,1,0,1],[1,1,1,1,1],[1,0,1,0,1],[1,1,1,1,1]]\n",
    "occ = [occ1, occ2,occ3, occ4]\n",
    "#VIEW(ggpl([.03,.015,.015,.03],[.1,.3,.05,.3,.1],[.1,.5,.05,.5,.1],occ)(.09,.9,.9))"
   ]
  },
  {
   "cell_type": "markdown",
   "metadata": {},
   "source": [
    "esempio di una finestra\n",
    "<img src=\"http://www.nasiserramenti.it/assets/01_nasiserramenti_finestra.jpg\">\n",
    "<img src=\"https://s11.postimg.org/567xdmcur/finestra2.png\">\n",
    "<img src=\"https://s15.postimg.org/9q97avmzv/finestra.png\">"
   ]
  },
  {
   "cell_type": "code",
   "execution_count": 207,
   "metadata": {
    "collapsed": false
   },
   "outputs": [],
   "source": [
    "\"esempio di porta\"\n",
    "X=[.1,.1,.1]\n",
    "Y=[.1,.4,.1]\n",
    "Z=[.1,.2,.1,.2,.1,.2,.1]\n",
    "occ1 = [[1,1,1],[1,2,1],[1,1,1],[1,2,1],[1,1,1],[1,2,1],[1,1,1]]\n",
    "occ = [occ1]\n",
    "porta = ggpl(X,Y,Z,occ)(.09,.9,.9)\n",
    "maniglia = CUBOID([0.05,0.025,0.025])\n",
    "maniglia = STRUCT([maniglia,T([1])([0.05]),CUBOID([0.025,0.05,0.025])])\n",
    "p = STRUCT([porta,T([1,2,3])([0.11,0.06,0.5]),maniglia])\n",
    "#VIEW(p)"
   ]
  },
  {
   "cell_type": "markdown",
   "metadata": {
    "collapsed": true
   },
   "source": [
    "esempio di una porta\n",
    "<img src=\"http://static8.depositphotos.com/1001599/885/v/450/depositphotos_8850986-Cartoon-home-door.jpg\">\n",
    "<img src=\"https://s15.postimg.org/uwlvvpv63/porta1.png\">\n",
    "<img src=\"https://s12.postimg.org/f5ozv7nu5/porta2.png\">"
   ]
  },
  {
   "cell_type": "code",
   "execution_count": null,
   "metadata": {
    "collapsed": true
   },
   "outputs": [],
   "source": []
  }
 ],
 "metadata": {
  "kernelspec": {
   "display_name": "Python 2",
   "language": "python",
   "name": "python2"
  },
  "language_info": {
   "codemirror_mode": {
    "name": "ipython",
    "version": 2
   },
   "file_extension": ".py",
   "mimetype": "text/x-python",
   "name": "python",
   "nbconvert_exporter": "python",
   "pygments_lexer": "ipython2",
   "version": "2.7.12"
  }
 },
 "nbformat": 4,
 "nbformat_minor": 1
}
