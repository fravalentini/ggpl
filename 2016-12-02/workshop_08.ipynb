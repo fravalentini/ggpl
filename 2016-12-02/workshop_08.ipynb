{
 "cells": [
  {
   "cell_type": "markdown",
   "metadata": {},
   "source": [
    "# Prima versione workshop 8"
   ]
  },
  {
   "cell_type": "code",
   "execution_count": 1,
   "metadata": {
    "collapsed": false
   },
   "outputs": [
    {
     "name": "stdout",
     "output_type": "stream",
     "text": [
      "Evaluating fenvs.py..\n",
      "...fenvs.py imported in 0.0167729387283 seconds\n"
     ]
    }
   ],
   "source": [
    "from pyplasm import *"
   ]
  },
  {
   "cell_type": "code",
   "execution_count": 23,
   "metadata": {
    "collapsed": false
   },
   "outputs": [
    {
     "data": {
      "text/plain": [
       "<pyplasm.xgepy.Hpc; proxy of <Swig Object of type 'std::shared_ptr< Hpc > *' at 0x000000000A54FE10> >"
      ]
     },
     "execution_count": 23,
     "metadata": {},
     "output_type": "execute_result"
    }
   ],
   "source": [
    "def ggpl_workshop8(points):\n",
    "    temp = []\n",
    "    cells=[]\n",
    "    temp = []\n",
    "    t,x = points[0]\n",
    "    i = 0\n",
    "    indx=1\n",
    "    \"scalo l'array di punti e li inserisco in un nuovo array\"\n",
    "    for point in points:\n",
    "        a,x = points[i]\n",
    "        temp.append((a//t,x//t))\n",
    "        i+=1\n",
    "        if indx < i:\n",
    "            cells.append([indx,indx+1])\n",
    "            indx+=2\n",
    "    walls = MKPOL([temp,cells,1])\n",
    "    walls = OFFSET([.1,.1,.3])(walls)\n",
    "    floor = MKPOL([temp,[[1,2,3,4,5,6],[8,9,10,11,12,13,14]],1])\n",
    "    coloredWalls = COLOR([0.89,0.858,0.772])(walls)\n",
    "    coloredFloor = COLOR([0.8,0.69,0.5])(floor)\n",
    "    struct = STRUCT([coloredWalls, coloredFloor])\n",
    "    return struct\n",
    "\n",
    "po = [(83.781815,404.71545),(530.6181750000001,404.71545),\n",
    "(530.6181750000001,404.71545),(530.6181750000001,763.7803899999999),\n",
    "(530.6181750000001,763.7803899999999),(83.781815,763.7803899999999),\n",
    "(83.781815,763.7803899999999),(83.781815,404.71545),\n",
    "(-1.3298701,226.51285),(360.3947999,226.51285),\n",
    "(360.3947999,226.51285),(360.3947999,404.71543999999994),\n",
    "(360.3947999,404.71543999999994),(-1.3298701,404.71543999999994),\n",
    "(-1.3298701,404.71543999999994),(-1.3298701,226.51285)]\n",
    "#VIEW(ggpl_workshop8(po))\n"
   ]
  },
  {
   "cell_type": "markdown",
   "metadata": {},
   "source": [
    "primo esempio con 2 stanze\n",
    "<img src=\"https://s18.postimg.org/lyb2kst0p/Immagine11.png\">\n",
    "\n",
    "po = [(83.781815,404.71545),(530.6181750000001,404.71545),\n",
    "(530.6181750000001,404.71545),(530.6181750000001,763.7803899999999),\n",
    "(530.6181750000001,763.7803899999999),(83.781815,763.7803899999999),\n",
    "(83.781815,763.7803899999999),(83.781815,404.71545),\n",
    "(-1.3298701,226.51285),(360.3947999,226.51285),\n",
    "(360.3947999,226.51285),(360.3947999,404.71543999999994),\n",
    "(360.3947999,404.71543999999994),(-1.3298701,404.71543999999994),\n",
    "(-1.3298701,404.71543999999994),(-1.3298701,226.51285)]\n",
    "\n",
    "<img src=\"https://s13.postimg.org/tqjjmxqlz/Immagine.png\">\n"
   ]
  },
  {
   "cell_type": "code",
   "execution_count": 24,
   "metadata": {
    "collapsed": false
   },
   "outputs": [
    {
     "data": {
      "text/plain": [
       "<pyplasm.xgepy.Hpc; proxy of <Swig Object of type 'std::shared_ptr< Hpc > *' at 0x000000000A54E960> >"
      ]
     },
     "execution_count": 24,
     "metadata": {},
     "output_type": "execute_result"
    }
   ],
   "source": [
    "p = [(10.0,-2490.9451),(3543.3071,-2490.9451),\n",
    "(3543.3071,-2490.9451),(3543.3071,1052.362),\n",
    "(3543.3071,1052.362),(10.0,1052.362),\n",
    "(10.0,1052.362),(10.0,-2490.9451),\n",
    "(10.0,-867.63788),(1760.0,-867.63788),\n",
    "(1760.0,-867.63788),(1760.0,1052.36212),\n",
    "(1760.0,1052.36212),(10.0,1052.36212),\n",
    "(10.0,1052.36212),(10.0,-867.63788),\n",
    "(1771.6536,-147.63788),(3543.3072,-147.63788),\n",
    "(3543.3072,-147.63788),(3543.3072,1052.36212),\n",
    "(3543.3072,1052.36212),(1771.6536,1052.36212),\n",
    "(1771.6536,1052.36212),(1771.6536,-147.63788),\n",
    "(1760.0,-1907.6378),(3543.307,-1907.6378),\n",
    "(3543.307,-1907.6378),(3543.307,-867.6378),\n",
    "(3543.307,-867.6378),(1760.0,-867.6378),\n",
    "(1760.0,-867.6378),(1760.0,-1907.6378),\n",
    "(10.0,-2490.9451),(1360.0,-2490.9451),\n",
    "(1360.0,-2490.9451),(1360.0,-1187.638),\n",
    "(1360.0,-1187.638),(10.0,-1187.638),\n",
    "(10.0,-1187.638),(10.0,-2490.9451)]\n",
    "#VIEW(ggpl_workshop8(p))"
   ]
  },
  {
   "cell_type": "markdown",
   "metadata": {
    "collapsed": true
   },
   "source": [
    "secondo esempio da finire\n",
    "<img src=\"https://s14.postimg.org/s2prpv101/Immagine22.png\">\n",
    "p = [(10.0,-2490.9451),(3543.3071,-2490.9451),\n",
    "(3543.3071,-2490.9451),(3543.3071,1052.362),\n",
    "(3543.3071,1052.362),(10.0,1052.362),\n",
    "(10.0,1052.362),(10.0,-2490.9451),\n",
    "(10.0,-867.63788),(1760.0,-867.63788),\n",
    "(1760.0,-867.63788),(1760.0,1052.36212),\n",
    "(1760.0,1052.36212),(10.0,1052.36212),\n",
    "(10.0,1052.36212),(10.0,-867.63788),\n",
    "(1771.6536,-147.63788),(3543.3072,-147.63788),\n",
    "(3543.3072,-147.63788),(3543.3072,1052.36212),\n",
    "(3543.3072,1052.36212),(1771.6536,1052.36212),\n",
    "(1771.6536,1052.36212),(1771.6536,-147.63788),\n",
    "(1760.0,-1907.6378),(3543.307,-1907.6378),\n",
    "(3543.307,-1907.6378),(3543.307,-867.6378),\n",
    "(3543.307,-867.6378),(1760.0,-867.6378),\n",
    "(1760.0,-867.6378),(1760.0,-1907.6378),\n",
    "(10.0,-2490.9451),(1360.0,-2490.9451),\n",
    "(1360.0,-2490.9451),(1360.0,-1187.638),\n",
    "(1360.0,-1187.638),(10.0,-1187.638),\n",
    "(10.0,-1187.638),(10.0,-2490.9451)]\n",
    "<img src=\"https://s13.postimg.org/4mnygupfb/Immagine1.png\">"
   ]
  },
  {
   "cell_type": "code",
   "execution_count": null,
   "metadata": {
    "collapsed": true
   },
   "outputs": [],
   "source": []
  },
  {
   "cell_type": "code",
   "execution_count": null,
   "metadata": {
    "collapsed": true
   },
   "outputs": [],
   "source": []
  },
  {
   "cell_type": "code",
   "execution_count": null,
   "metadata": {
    "collapsed": true
   },
   "outputs": [],
   "source": []
  }
 ],
 "metadata": {
  "kernelspec": {
   "display_name": "Python 2",
   "language": "python",
   "name": "python2"
  },
  "language_info": {
   "codemirror_mode": {
    "name": "ipython",
    "version": 2
   },
   "file_extension": ".py",
   "mimetype": "text/x-python",
   "name": "python",
   "nbconvert_exporter": "python",
   "pygments_lexer": "ipython2",
   "version": "2.7.12"
  }
 },
 "nbformat": 4,
 "nbformat_minor": 1
}
