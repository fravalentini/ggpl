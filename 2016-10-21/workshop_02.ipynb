{
 "cells": [
  {
   "cell_type": "code",
   "execution_count": null,
   "metadata": {
    "collapsed": true
   },
   "outputs": [],
   "source": [
    "https://cad3000.files.wordpress.com/2008/02/vis3d-2.gif"
   ]
  },
  {
   "cell_type": "code",
   "execution_count": 4,
   "metadata": {
    "collapsed": false
   },
   "outputs": [
    {
     "name": "stdout",
     "output_type": "stream",
     "text": [
      "Evaluating fenvs.py..\n",
      "...fenvs.py imported in 0.00824020318 seconds\n"
     ]
    }
   ],
   "source": [
    "from pyplasm import *\n",
    "import csv\n",
    "\n",
    "def ggpl_bone_structure(string):\n",
    "    \"\"\" Funzione che legge da file i dati \"\"\"\n",
    "    with open('frame_data_000000.csv') as csvfile:\n",
    "        spamreader = csv.reader(csvfile, delimiter=' ', quotechar='|')\n",
    "        odd = []\n",
    "        even = []\n",
    "        i = 1\n",
    "        for row in spamreader:\n",
    "            i=i+1\n",
    "            for val in row:\n",
    "                if i % 2 == 0:\n",
    "                    even.append(float(val))\n",
    "                else:\n",
    "                    odd.append(float(val))\n",
    "    \n",
    "    a = structure(3)\n",
    "    b = structure(3)\n",
    "    d = STRUCT([a,T(2)(6),b])\n",
    "    z = CUBOID([1,6,1])\n",
    "    newStructure = STRUCT([z,T(3)(3),z]*3)\n",
    "    newStructure = STRUCT([newStructure,T(1)(4.0),newStructure]*(3+1))\n",
    "    final = STRUCT([d,T(0)(0),newStructure,d,T(2)(6),newStructure])\n",
    "    finalStructure = STRUCT([final,T(2)(12),a])\n",
    "    VIEW(finalStructure)\n",
    "    \n",
    "\"\"\"funzione che restitusce un telaio \"\"\"   \n",
    "def structure(x):\n",
    "    horizontal =  CUBOID ([5,1,1])\n",
    "    vertical  = CUBOID ([1,1,4])\n",
    "    verticalStructure = STRUCT([vertical,T(3)(3),vertical]*x)\n",
    "    verticalStructure = STRUCT([verticalStructure,T(1)(4.0),verticalStructure]*(x+1))\n",
    "    horizontalStructure = STRUCT([horizontal,T(1)(4),horizontal]*x)\n",
    "    horizontalStructure = STRUCT([horizontalStructure,T(3)(3),horizontalStructure]*(x))\n",
    "    structure = STRUCT([verticalStructure,T(0)(0),horizontalStructure]*x)\n",
    "    return structure"
   ]
  },
  {
   "cell_type": "code",
   "execution_count": 5,
   "metadata": {
    "collapsed": false
   },
   "outputs": [],
   "source": [
    "ggpl_bone_structure(\"frame_data_000000\")"
   ]
  },
  {
   "cell_type": "code",
   "execution_count": null,
   "metadata": {
    "collapsed": false
   },
   "outputs": [],
   "source": []
  },
  {
   "cell_type": "code",
   "execution_count": null,
   "metadata": {
    "collapsed": true
   },
   "outputs": [],
   "source": []
  },
  {
   "cell_type": "code",
   "execution_count": null,
   "metadata": {
    "collapsed": true
   },
   "outputs": [],
   "source": []
  },
  {
   "cell_type": "code",
   "execution_count": null,
   "metadata": {
    "collapsed": true
   },
   "outputs": [],
   "source": []
  }
 ],
 "metadata": {
  "kernelspec": {
   "display_name": "Python 2",
   "language": "python",
   "name": "python2"
  },
  "language_info": {
   "codemirror_mode": {
    "name": "ipython",
    "version": 2
   },
   "file_extension": ".py",
   "mimetype": "text/x-python",
   "name": "python",
   "nbconvert_exporter": "python",
   "pygments_lexer": "ipython2",
   "version": "2.7.12"
  }
 },
 "nbformat": 4,
 "nbformat_minor": 1
}
