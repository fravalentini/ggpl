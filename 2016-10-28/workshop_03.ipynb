{
 "cells": [
  {
   "cell_type": "code",
   "execution_count": null,
   "metadata": {
    "collapsed": true
   },
   "outputs": [],
   "source": [
    "\"modern_staircase\"\n",
    "https://s-media-cache-ak0.pinimg.com/564x/79/51/72/7951728b1d1593fb107e918f50cf2aa8.jpg\n",
    "http://st.hzcdn.com/fimgs/1811f0ad03c92c62_1801-w500-h666-b0-p0--modern-staircase.jpg\n",
    "    "
   ]
  },
  {
   "cell_type": "code",
   "execution_count": 1,
   "metadata": {
    "collapsed": false
   },
   "outputs": [
    {
     "name": "stdout",
     "output_type": "stream",
     "text": [
      "Evaluating fenvs.py..\n",
      "...fenvs.py imported in 0.00733649660733 seconds\n"
     ]
    },
    {
     "data": {
      "text/plain": [
       "<pyplasm.xgepy.Hpc; proxy of <Swig Object of type 'std::shared_ptr< Hpc > *' at 0x0000000004892360> >"
      ]
     },
     "execution_count": 1,
     "metadata": {},
     "output_type": "execute_result"
    }
   ],
   "source": [
    "from pyplasm import *\n",
    "\n",
    "\"creo un gradino dove width è la larghezza, riser è l'alzata e tread è la pedata\"\n",
    "def step(width, riser, tread) :\n",
    "    step = MKPOL([[[0,0],[0,riser*2],[tread,riser*2],[tread,riser]],[[1,2,3,4]],1])\n",
    "    step = PROD([QUOTE([width]),step])\n",
    "    return step\n",
    "\n",
    "#VIEW(step(1,0.2,0.25))\n",
    "\"creo la scala come una struttura di gradini\"\n",
    "def stairs(width,riser,tread,n) :\n",
    "    structureElements = [CUBOID([width,tread,riser]),T([2])([tread]),step(width,riser,tread)]\n",
    "    for i in range(2,int(n)):\n",
    "        structureElements.append(T([2,3])([tread,riser]))\n",
    "        structureElements.append(step(width,riser,tread))\n",
    "    s = STRUCT(structureElements)\n",
    "    return s\n",
    "#VIEW(stairs(1,0.2,0.25,10))\n",
    "\n",
    "\"metodo che crea 2 piattaforme, una per il pavimento una per il pianerottolo\"\n",
    "def platform(dx,dy,dz):\n",
    "    s = stairs(dx,dy,dz,10)\n",
    "    platform = CUBOID([2,1,0.2])\n",
    "    upperPlatform = STRUCT([s,T([2,3])([2.5,1.8]),platform])\n",
    "    structure = STRUCT([upperPlatform,s])\n",
    "    floor=CUBOID([2,1,0.2])\n",
    "    finalStructure = STRUCT([structure,T(2)(-1),floor])\n",
    "    return finalStructure\n",
    "#VIEW(platform())\n",
    "\n",
    "\"metodo che crea un corrimano; usato con dati preimpostati\"\n",
    "def handrail(dx,dy,dz):\n",
    "    handrail = MKPOL([[[0,1],[0.3,1],[2,2.8],[2.5,2.8]],[[1,2],[2,3],[3,4]],1])\n",
    "    handrail = PROD([QUOTE([0.2]),handrail])\n",
    "    p = platform(dx,dy,dz)\n",
    "    handrail = STRUCT([handrail,T(1)(0),p])\n",
    "    rod = MKPOL([[[0,0.2],[0,1]],[[1,2]],1])\n",
    "    rod = PROD([QUOTE([0.2]),rod])\n",
    "    handrail = STRUCT([handrail,T(1)(0),rod])\n",
    "    rod1 = MKPOL([[[2.5,2.8],[2.5,2]],[[1,2]],1])\n",
    "    rod1 = PROD([QUOTE([0.2]),rod1])\n",
    "    handrail = STRUCT([handrail,T(1)(0),rod1])\n",
    "    return handrail\n",
    "\n",
    "def ggpl_modern_staircase(dx,dy,dz):\n",
    "    return stairs(dx,dy,dz,10)\n",
    "    \n",
    "VIEW(ggpl_modern_staircase(2,2,2))\n",
    "VIEW(ggpl_modern_staircase(1,0.2,0.5))\n",
    "\"questo ultimo è un esempio con il corrimano ancora da finire\"\n",
    "VIEW(handrail(1,0.2,0.25))\n",
    "    "
   ]
  },
  {
   "cell_type": "code",
   "execution_count": null,
   "metadata": {
    "collapsed": true
   },
   "outputs": [],
   "source": []
  }
 ],
 "metadata": {
  "kernelspec": {
   "display_name": "Python 2",
   "language": "python",
   "name": "python2"
  },
  "language_info": {
   "codemirror_mode": {
    "name": "ipython",
    "version": 2
   },
   "file_extension": ".py",
   "mimetype": "text/x-python",
   "name": "python",
   "nbconvert_exporter": "python",
   "pygments_lexer": "ipython2",
   "version": "2.7.12"
  }
 },
 "nbformat": 4,
 "nbformat_minor": 1
}
