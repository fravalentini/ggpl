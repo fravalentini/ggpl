{
 "cells": [
  {
   "cell_type": "code",
   "execution_count": 17,
   "metadata": {
    "collapsed": false
   },
   "outputs": [
    {
     "data": {
      "text/html": [
       "<img src=\"http://www.floridadisaster.org/hrg/images/roofs/hip_roof_definitions_large.jpg\"/>"
      ],
      "text/plain": [
       "<IPython.core.display.Image object>"
      ]
     },
     "execution_count": 17,
     "metadata": {},
     "output_type": "execute_result"
    }
   ],
   "source": [
    "#My House Roof Builder\n",
    "from IPython.display import Image\n",
    "from IPython.core.display import HTML \n",
    "Image(url= \"http://www.floridadisaster.org/hrg/images/roofs/hip_roof_definitions_large.jpg\")\n"
   ]
  },
  {
   "cell_type": "code",
   "execution_count": 19,
   "metadata": {
    "collapsed": false
   },
   "outputs": [
    {
     "data": {
      "text/plain": [
       "<pyplasm.xgepy.Hpc; proxy of <Swig Object of type 'std::shared_ptr< Hpc > *' at 0x0000000004127510> >"
      ]
     },
     "execution_count": 19,
     "metadata": {},
     "output_type": "execute_result"
    }
   ],
   "source": [
    "\n",
    "from pyplasm import *\n",
    "\"Di seguito sono riportati due array uno contenente i vertici e uno le celle\"\n",
    "verts = [(0,0,0),(10,0,0),(2.5,2.5,3),(7.5,2.5,3),(10,5,0),(5,5,0),(5,10,0),(0,10,0),(2.5,7.5,3)]\n",
    "cells = [[1,2,3,4],[2,4,5],[4,5,6,3],[6,7,9,3],[7,8,9],[9,8,1,3]]\n",
    "\n",
    " \n",
    "\"funzione che prende in input 2 array (vertici e celle)\"\n",
    "def ggpl_house_roof(verts, cells):\n",
    "    tetto = MKPOL([verts,cells,1])\n",
    "    sk1 = SKEL_1(tetto)\n",
    "    scheletro = OFFSET([.2,.2,.5])(sk1)\n",
    "    newCells = []\n",
    "    newVerts=[]\n",
    "    i = 1\n",
    "    \"prendo i vertici le cui coordinate hanno z maggiore di 0 e trovo il punto corrispondente con z = 0 \"\n",
    "    for vertex in verts:\n",
    "        if (vertex[2]) > 0:\n",
    "            v = (vertex[0],vertex[1],0)\n",
    "            verts.append(v)\n",
    "            newVerts.append(v)\n",
    "            newVerts.append(vertex)\n",
    "            newCells.append([i,i+1]) \n",
    "            i = i+2\n",
    "    i = 0\n",
    "    \n",
    "    for v in verts:\n",
    "        if v[2]>0:\n",
    "            verts[i]=(v[0],v[1],0)\n",
    "        i=i+1\n",
    "    \"creo le strutture che compongono il tetto e le unisco con STRUCT\"\n",
    "    base = MKPOL([verts,cells,1])\n",
    "    sk2 = SKEL_1(base)\n",
    "    schel = OFFSET([.2,.2,.5])(sk2)\n",
    "    finale = STRUCT([schel,T(0)(0),scheletro])\n",
    "    h = MKPOL([newVerts,newCells,1])\n",
    "    sk3 = SKEL_1(h)\n",
    "    sk3 = OFFSET([.2,.2,.5])(sk3)\n",
    "    finalRoof = STRUCT([sk3,T(0)(0),finale])\n",
    "    return finalRoof\n",
    "\"esempio del tetto visto a lezione \"\n",
    "VIEW(ggpl_house_roof(verts,cells))\n",
    "\n"
   ]
  },
  {
   "cell_type": "code",
   "execution_count": 18,
   "metadata": {
    "collapsed": false
   },
   "outputs": [
    {
     "data": {
      "text/html": [
       "<img src=\"http://www.workspacetraining.com.au/timberplustoolbox/toolbox13_05/unit8_laying_up_roof_trusses/images/t_roof_top.gif\"/>"
      ],
      "text/plain": [
       "<IPython.core.display.Image object>"
      ]
     },
     "execution_count": 18,
     "metadata": {},
     "output_type": "execute_result"
    }
   ],
   "source": [
    "Image(url= \"http://www.workspacetraining.com.au/timberplustoolbox/toolbox13_05/unit8_laying_up_roof_trusses/images/t_roof_top.gif\")\n"
   ]
  },
  {
   "cell_type": "code",
   "execution_count": 26,
   "metadata": {
    "collapsed": false
   },
   "outputs": [
    {
     "data": {
      "text/plain": [
       "<pyplasm.xgepy.Hpc; proxy of <Swig Object of type 'std::shared_ptr< Hpc > *' at 0x0000000004127720> >"
      ]
     },
     "execution_count": 26,
     "metadata": {},
     "output_type": "execute_result"
    }
   ],
   "source": [
    "v = [(0,0,0),(10,0,0),(10,5,3),(0,5,3),(0,10,0),(2.5,10,0),(7.5,10,0),(10,10,0),(7.5,12.5,0),(2.5,12.5,0),(5,12.5,3),(5,5,3)]\n",
    "c = [[1,2,3,4],[1,4,5],[5,6,12,4],[12,7,8,3],[2,3,8],[6,10,11,12],[12,11,9,7]]\n",
    "\"esempio 2\"\n",
    "VIEW(ggpl_house_roof(v,c))"
   ]
  },
  {
   "cell_type": "code",
   "execution_count": null,
   "metadata": {
    "collapsed": true
   },
   "outputs": [],
   "source": []
  }
 ],
 "metadata": {
  "kernelspec": {
   "display_name": "Python 2",
   "language": "python",
   "name": "python2"
  },
  "language_info": {
   "codemirror_mode": {
    "name": "ipython",
    "version": 2
   },
   "file_extension": ".py",
   "mimetype": "text/x-python",
   "name": "python",
   "nbconvert_exporter": "python",
   "pygments_lexer": "ipython2",
   "version": "2.7.12"
  }
 },
 "nbformat": 4,
 "nbformat_minor": 1
}
